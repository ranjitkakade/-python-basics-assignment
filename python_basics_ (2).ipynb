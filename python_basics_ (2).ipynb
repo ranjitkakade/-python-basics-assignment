{
  "nbformat": 4,
  "nbformat_minor": 0,
  "metadata": {
    "colab": {
      "provenance": []
    },
    "kernelspec": {
      "name": "python3",
      "display_name": "Python 3"
    },
    "language_info": {
      "name": "python"
    }
  },
  "cells": [
    {
      "cell_type": "code",
      "execution_count": null,
      "metadata": {
        "id": "tObOj-O_5p99"
      },
      "outputs": [],
      "source": []
    },
    {
      "cell_type": "markdown",
      "source": [
        "- python basics questions   "
      ],
      "metadata": {
        "id": "Ycifdyn6CiRE"
      }
    },
    {
      "cell_type": "markdown",
      "source": [
        "1. What is Python, and why is it popular?\n",
        "  - it is easy to learn\n",
        "  - widely used in it sector & data industry\n",
        "  - lot of libraries available\n",
        "  - huge active community\n",
        "  - automation\n",
        "  - image processing\n"
      ],
      "metadata": {
        "id": "G2pGPRt15w5W"
      }
    },
    {
      "cell_type": "markdown",
      "source": [
        "2. What is an interpreter in Python ?\n",
        "- In Python, an interpreter is a program that executes Python code. Unlike a compiler that translates the entire code into machine language before execution, an interpreter translates and executes the code line by line.\n",
        "\n"
      ],
      "metadata": {
        "id": "_3tubFI-5w1z"
      }
    },
    {
      "cell_type": "markdown",
      "source": [
        "3. What are pre-defined keywords in Python ?\n",
        "- Pre-defined keywords in Python are reserved words that have special meaning and cannot be used as identifiers (e.g., variable names, function names). These keywords are part of the Python syntax and are essential for the language to function properly.\n",
        "\n",
        " Here is a list of some of the pre-defined keywords in Python:\n",
        "\n",
        " False,None,True,and,as,assert,break,class,continue,def,del,elif,else,except,finally,for,from,global,if,import,in,is,lambda,nonlocal,not,or,pass,raise,return\n",
        ",try,while,with,yield."
      ],
      "metadata": {
        "id": "69coTF7-5wzb"
      }
    },
    {
      "cell_type": "markdown",
      "source": [
        "4. Can keywords be used as variable names ?\n",
        "- No, keywords in Python cannot be used as variable names. Since keywords have special meanings in the Python language, trying to use them as variable names will result in a syntax error.\n",
        "\n",
        "- For example:\n",
        " if = 10  # This will raise a SyntaxError\n",
        "In this case, if is a keyword, and attempting to use it as a variable name will lead to an error.\n",
        "\n",
        " You must use non-keyword names for variables to avoid this issue.\n",
        "\n",
        "\n",
        "\n"
      ],
      "metadata": {
        "id": "VUywryTL5wwl"
      }
    },
    {
      "cell_type": "markdown",
      "source": [
        "5. What is mutability in Python ?\n",
        "- Mutable objects are objects whose content or state can be changed after creation. For example, lists, dictionaries, and sets are mutable, meaning you can modify their elements or add/remove items.\n",
        "\n",
        "- Example with a mutable object (list):\n",
        "\n",
        "\n",
        " my_list = [1, 2, 3]\n",
        " my_list[0] = 10   \n",
        " print(my_list)\n",
        " # Output: [10, 2, 3]"
      ],
      "metadata": {
        "id": "IRcMxY8v5wuG"
      }
    },
    {
      "cell_type": "markdown",
      "source": [
        "6. Why are lists mutable, but tuples are immutable ?\n",
        "- lists are mutable because they are designed to allow changes (like adding, removing, or modifying elements), making them flexible for dynamic data.\n",
        "-  Tuples are immutable because they are meant to be fixed, unchangeable collections, ensuring data integrity and better performance, especially when used as dictionary keys or set elem"
      ],
      "metadata": {
        "id": "MDBIMxqU5wrU"
      }
    },
    {
      "cell_type": "markdown",
      "source": [
        "7. What is the difference between “==” and “is” operators in Python ?\n",
        "- == (Equality Operator):\n",
        "-  Compares the values of two objects to see if they are equal.\n",
        "-  Checks if the contents or values of the objects are the same, regardless of whether they are the same object in memory.\n",
        "- is (Identity Operator):\n",
        "-  Compares the memory addresses (identity) of two objects to see if they are the same object in memory.\n",
        "-  Checks if both variables refer to the exact same object, not just equivalent values"
      ],
      "metadata": {
        "id": "TXKGPxN55woo"
      }
    },
    {
      "cell_type": "markdown",
      "source": [
        "8.  What are logical operators in Python ?\n",
        "- and: Returns True if both conditions are True.\n",
        "\n",
        "- or: Returns True if at least one condition is True.\n",
        "\n",
        "- not: Reverses the truth value of the condition.\n",
        "\n",
        "- These logical operators are commonly used in conditional statements like if, elif, and while to control the flow of execution."
      ],
      "metadata": {
        "id": "SdHaLNzI5wlq"
      }
    },
    {
      "cell_type": "markdown",
      "source": [
        "9. What is type casting in Python ?\n",
        "- Implicit Type Casting (Automatic):\n",
        "\n",
        "  Python automatically converts one data type to another when it is needed, usually when performing operations involving different types. This usually happens when there is no risk of data loss.\n",
        "- Explicit Type Casting (Manual ):\n",
        "\n",
        "  You can manually convert one data type to another using functions like int(), float(), str(), etc.\n",
        "\n"
      ],
      "metadata": {
        "id": "5lA9-MFM5wi1"
      }
    },
    {
      "cell_type": "markdown",
      "source": [
        "10.  What is the difference between implicit and explicit type casting ?\n",
        "-  Implicit Type Casting :\n",
        " What it is: This is when Python automatically converts one data type to another. It happens when there is no risk of losing data or precision. Python handles it for you without needing any explicit instructions from the programmer.\n",
        "\n",
        " When it happens: It usually happens when an operation involves two or more data types that can be safely converted (e.g., adding an integer to a float).\n",
        "- Explicit Type Casting :\n",
        " What it is: This is when the programmer explicitly converts one data type to another using Python's built-in functions (like int(), float(), str(), etc.).\n",
        "\n",
        " When it happens: The programmer decides when and how to convert types, often to control the type conversion process or prevent errors."
      ],
      "metadata": {
        "id": "6WKHAgVd5wgU"
      }
    },
    {
      "cell_type": "markdown",
      "source": [
        "11. 8 What is the purpose of conditional statements in Python ?\n",
        "- Conditional statements in Python are used to make decisions in a program based on certain conditions. They allow you to execute different blocks of code depending on whether a condition is True or False.\n",
        "- This is crucial for controlling the flow of a program and performing different actions based on different inputs or scenarios.\n",
        "\n",
        "\n"
      ],
      "metadata": {
        "id": "zA7wGJGH5wdg"
      }
    },
    {
      "cell_type": "markdown",
      "source": [
        "12.  How does the elif statement work?\n",
        "- The elif (short for \"else if\") statement in Python is used to check multiple conditions after an initial if statement. It allows you to test more than one condition, and if the first condition is False, it checks the next elif condition, and so on. If none of the conditions are True, the else block (if provided) is executed.\n"
      ],
      "metadata": {
        "id": "X1jviI7lAv0J"
      }
    },
    {
      "cell_type": "markdown",
      "source": [
        "13. What is the difference between for and while loops ?\n",
        "- for Loop:\n",
        "  The for loop is used when you know exactly how many times you want to repeat an action (iterating over a sequence like a list, tuple, string, or range).\n",
        "\n",
        " It iterates over a sequence (like a list, string, or range) or any iterable object.\n",
        "\n",
        "- while Loop:\n",
        "  The while loop is used when you want to repeat an action until a condition is no longer true. You may not know exactly how many times the loop will run at the start.\n",
        "\n",
        "  The while loop continues to execute as long as the condition is True."
      ],
      "metadata": {
        "id": "eDB_ezn_AwUE"
      }
    },
    {
      "cell_type": "markdown",
      "source": [
        "14. Describe a scenario where a while loop is more suitable than a for loop.\n",
        "- Scenario Example: User Input Validation\n",
        "Imagine you're asking a user to input their age, but you want to ensure that the input is a valid positive number. The number of attempts is unknown, as it depends on how many times the user inputs an invalid value. Here, a while loop is more suitable:\n",
        "\n",
        "\n",
        " - age = -1  \n",
        " while age <= 0:\n",
        "    age = int(input(\"Please enter a valid age (greater than 0): \"))\n",
        "    if age <= 0:\n",
        "        print(\"Invalid input. Try again.\")\n",
        "\n",
        " print(f\"Your age is: {age}\")\n",
        "\n",
        "- Why while is suitable:\n",
        "The loop continues until the user inputs a valid age (greater than 0).\n",
        "\n",
        " The number of iterations is not known beforehand and depends on how many invalid inputs the user provides.\n",
        "\n",
        "\n",
        "\n",
        "\n"
      ],
      "metadata": {
        "id": "OML2oOdVAwzj"
      }
    },
    {
      "cell_type": "markdown",
      "source": [
        "- practical questions"
      ],
      "metadata": {
        "id": "rMdvWISKCydq"
      }
    },
    {
      "cell_type": "code",
      "source": [
        "#1. Write a Python program to print \"Hello, World!\"\n",
        "print('hello ranjit!')"
      ],
      "metadata": {
        "colab": {
          "base_uri": "https://localhost:8080/"
        },
        "id": "w_qp8SvtCgiG",
        "outputId": "39e7fe08-e8ab-453f-d342-4a692e90f6b3"
      },
      "execution_count": 4,
      "outputs": [
        {
          "output_type": "stream",
          "name": "stdout",
          "text": [
            "hello ranjit!\n"
          ]
        }
      ]
    },
    {
      "cell_type": "code",
      "source": [
        "#2.Write a Python program that displays your name and age\n",
        "name ='ranjit'\n",
        "age=25\n",
        "print(f'my name is {name} and my age is {age}')"
      ],
      "metadata": {
        "colab": {
          "base_uri": "https://localhost:8080/"
        },
        "id": "OYWOhyFUCgen",
        "outputId": "3252f526-6afa-495a-b043-4042cdabe51c"
      },
      "execution_count": 7,
      "outputs": [
        {
          "output_type": "stream",
          "name": "stdout",
          "text": [
            "my name is ranjit and my age is 25\n"
          ]
        }
      ]
    },
    {
      "cell_type": "code",
      "source": [
        "#3.Write code to print all the pre-defined keywords in Python using the keyword library\n",
        "import keyword\n",
        "print(keyword.kwlist)"
      ],
      "metadata": {
        "colab": {
          "base_uri": "https://localhost:8080/"
        },
        "id": "ygRZbryZCgaQ",
        "outputId": "89248182-ebcf-4f6f-aa02-a2bf8a65f8b8"
      },
      "execution_count": 8,
      "outputs": [
        {
          "output_type": "stream",
          "name": "stdout",
          "text": [
            "['False', 'None', 'True', 'and', 'as', 'assert', 'async', 'await', 'break', 'class', 'continue', 'def', 'del', 'elif', 'else', 'except', 'finally', 'for', 'from', 'global', 'if', 'import', 'in', 'is', 'lambda', 'nonlocal', 'not', 'or', 'pass', 'raise', 'return', 'try', 'while', 'with', 'yield']\n"
          ]
        }
      ]
    },
    {
      "cell_type": "code",
      "source": [
        "#4.Write a program that checks if a given word is a Python keyword.\n",
        "import keyword\n",
        "\n",
        "def is_keyword(word):\n",
        "  return keyword.iskeyword(word)\n",
        "word = input(\"Enter a word: \")\n",
        "if is_keyword(word):\n",
        "  print(f\"'{word}' is a Python keyword.\")\n",
        "else:\n",
        "  print(f\"'{word}' is not a Python keyword.\")\n"
      ],
      "metadata": {
        "colab": {
          "base_uri": "https://localhost:8080/"
        },
        "id": "yi9AYgQ3CgXk",
        "outputId": "c4db14de-06be-48c2-d5b4-17618eb508bc"
      },
      "execution_count": 9,
      "outputs": [
        {
          "output_type": "stream",
          "name": "stdout",
          "text": [
            "Enter a word: for\n",
            "'for' is a Python keyword.\n"
          ]
        }
      ]
    },
    {
      "cell_type": "markdown",
      "source": [],
      "metadata": {
        "id": "FGYxxUq2FiAg"
      }
    },
    {
      "cell_type": "code",
      "source": [
        "#5. Create a list and tuple in Python, and demonstrate how attempting to change an element works differenttly from each\n",
        "my_list = [1, 2, 3]\n",
        "my_tuple = (1, 2, 3)\n",
        "\n",
        "my_list[0] = 10\n",
        "print(\"Modified list:\", my_list)\n",
        "\n",
        "try:\n",
        "  my_tuple[0] = 10\n",
        "except TypeError as e:\n",
        "  print(\"Error modifying tuple:\", e)"
      ],
      "metadata": {
        "colab": {
          "base_uri": "https://localhost:8080/"
        },
        "id": "ERvEdJKDFsNs",
        "outputId": "ee15bd69-1f15-443a-9e72-19c90d578ffd"
      },
      "execution_count": 10,
      "outputs": [
        {
          "output_type": "stream",
          "name": "stdout",
          "text": [
            "Modified list: [10, 2, 3]\n",
            "Error modifying tuple: 'tuple' object does not support item assignment\n"
          ]
        }
      ]
    },
    {
      "cell_type": "code",
      "source": [
        "#6.Write a function to demonstrate the behavior of mutable and immutable arguments\n",
        "def modify_immutable_argument(string):\n",
        "  string += \" World!\"\n",
        "  print(f\"Inside the function, string is: {string}\")\n",
        "def modify_mutable_argument(lst):\n",
        "  lst.append(4)\n",
        "  print(f\"Inside the function, the list is: {lst}\")\n",
        "\n",
        "my_string = \"Hello\"\n",
        "print(f\"Original string: {my_string}\")\n",
        "modify_immutable_argument(my_string)\n",
        "print(f\"After the function, string is: {my_string}\")\n",
        "\n",
        "my_list = [1, 2, 3]\n",
        "print(f\"Original list: {my_list}\")\n",
        "modify_mutable_argument(my_list)\n",
        "print(f\"After the function, list is: {my_list}\")\n"
      ],
      "metadata": {
        "colab": {
          "base_uri": "https://localhost:8080/"
        },
        "id": "5d6KtadwFsHx",
        "outputId": "27282b5b-42a8-4bfa-f38c-23e99f2d866e"
      },
      "execution_count": 13,
      "outputs": [
        {
          "output_type": "stream",
          "name": "stdout",
          "text": [
            "Original string: Hello\n",
            "Inside the function, string is: Hello World!\n",
            "After the function, string is: Hello\n",
            "Original list: [1, 2, 3]\n",
            "Inside the function, the list is: [1, 2, 3, 4]\n",
            "After the function, list is: [1, 2, 3, 4]\n"
          ]
        }
      ]
    },
    {
      "cell_type": "code",
      "source": [
        "#7. Write a program that performs basic arithmetic operations on two user-input numbers.\n",
        "num1 = float(input(\"Enter the first number: \"))\n",
        "num2 = float(input(\"Enter the second number: \"))\n",
        "\n",
        "addition = num1 + num2\n",
        "subtraction = num1 - num2\n",
        "multiplication = num1 * num2\n",
        "division = num1 / num2\n",
        "modulus = num1 % num2\n",
        "print(f\"Addition: {addition}\")\n",
        "print(f\"Subtraction: {subtraction}\")\n",
        "print(f\"Multiplication: {multiplication}\")\n",
        "print(f\"Division: {division}\")\n",
        "print(f\"Modulus: {modulus}\")\n"
      ],
      "metadata": {
        "colab": {
          "base_uri": "https://localhost:8080/"
        },
        "id": "P0oPFuAEFsBc",
        "outputId": "afacfcc6-9797-4ac7-d735-38dd07769429"
      },
      "execution_count": 16,
      "outputs": [
        {
          "output_type": "stream",
          "name": "stdout",
          "text": [
            "Enter the first number: 4\n",
            "Enter the second number: 5\n",
            "Addition: 9.0\n",
            "Subtraction: -1.0\n",
            "Multiplication: 20.0\n",
            "Division: 0.8\n",
            "Modulus: 4.0\n"
          ]
        }
      ]
    },
    {
      "cell_type": "code",
      "source": [
        "#8. Write a program to demonstrate the use of logical operators.\n",
        "x = True\n",
        "y = False\n",
        "\n",
        "\n",
        "print(\"x and y:\", x and y)\n",
        "print(\"x or y:\", x or y)\n",
        "print(\"not x:\", not x)\n",
        "\n",
        "is_student = True\n",
        "\n",
        "if age > 18 and is_student:\n",
        "  print(\"You are an adult student.\")\n",
        "elif age > 18 or is_student:\n",
        "  print(\"You are either an adult or a student.\")\n",
        "else:\n",
        "  print(\"You are neither an adult nor a student.\")\n"
      ],
      "metadata": {
        "colab": {
          "base_uri": "https://localhost:8080/"
        },
        "id": "kcLBTe39Fr-m",
        "outputId": "a2fcb553-0026-454a-e8b4-f6c727d60f7a"
      },
      "execution_count": 18,
      "outputs": [
        {
          "output_type": "stream",
          "name": "stdout",
          "text": [
            "x and y: False\n",
            "x or y: True\n",
            "not x: False\n",
            "You are an adult student.\n"
          ]
        }
      ]
    },
    {
      "cell_type": "markdown",
      "source": [],
      "metadata": {
        "id": "WzV97p0jH4D6"
      }
    },
    {
      "cell_type": "code",
      "source": [
        "#9.Write a Python program to convert user input from string to integer, float, and boolean types.\n",
        "user_input = input(\"Enter a value: \")\n",
        "\n",
        "try:\n",
        "  integer_value = int(user_input)\n",
        "  float_value = float(user_input)\n",
        "  boolean_value = bool(user_input)\n",
        "  print(f\"Integer value: {integer_value}\")\n",
        "  print(f\"Float value: {float_value}\")\n",
        "  print(f\"Boolean value: {boolean_value}\")\n",
        "except ValueError:\n",
        "  print(\"Invalid input. Please enter a valid integer, float, or boolean value.\")"
      ],
      "metadata": {
        "colab": {
          "base_uri": "https://localhost:8080/"
        },
        "id": "wCbmfrM1CgSI",
        "outputId": "fcaa19f8-a478-4ed1-e1ce-92f251ef61bf"
      },
      "execution_count": 20,
      "outputs": [
        {
          "output_type": "stream",
          "name": "stdout",
          "text": [
            "Enter a value: 7\n",
            "Integer value: 7\n",
            "Float value: 7.0\n",
            "Boolean value: True\n"
          ]
        }
      ]
    },
    {
      "cell_type": "code",
      "source": [
        "#10.. Write code to demonstrate type casting with list elements\n",
        "my_list = [1, 2, 3, 4, 5]\n",
        "print(f\"Original list: {my_list}\")\n",
        "\n",
        "str_list = [str(element) for element in my_list]\n",
        "print(f\"List of strings: {str_list}\")\n"
      ],
      "metadata": {
        "colab": {
          "base_uri": "https://localhost:8080/"
        },
        "id": "lplhf4-LIRbX",
        "outputId": "e112595e-e998-4bd1-e089-9f235074cc93"
      },
      "execution_count": 21,
      "outputs": [
        {
          "output_type": "stream",
          "name": "stdout",
          "text": [
            "Original list: [1, 2, 3, 4, 5]\n",
            "List of strings: ['1', '2', '3', '4', '5']\n"
          ]
        }
      ]
    },
    {
      "cell_type": "code",
      "source": [
        "#11. Write a program that checks if a number is positive, negative, or zero.\n",
        "num = float(input(\"Enter a number: \"))\n",
        "\n",
        "if num > 0:\n",
        "  print(\"The number is positive.\")\n",
        "elif num < 0:\n",
        "  print(\"The number is negative.\")\n",
        "else:\n",
        "  print(\"The number is zero.\")\n",
        ""
      ],
      "metadata": {
        "colab": {
          "base_uri": "https://localhost:8080/"
        },
        "id": "FK0I3Bd9IRYB",
        "outputId": "733e4475-ef40-4640-984a-df770e956d1f"
      },
      "execution_count": 22,
      "outputs": [
        {
          "output_type": "stream",
          "name": "stdout",
          "text": [
            "Enter a number: 5\n",
            "The number is positive.\n"
          ]
        }
      ]
    },
    {
      "cell_type": "code",
      "source": [
        "#12. Write a for loop to print numbers from 1 to 10.\n",
        "for num in range(1, 11):\n",
        "  print(num)\n"
      ],
      "metadata": {
        "colab": {
          "base_uri": "https://localhost:8080/"
        },
        "id": "waO34788IRVi",
        "outputId": "80f71872-f611-4d56-dad5-e9bb7af2a833"
      },
      "execution_count": 23,
      "outputs": [
        {
          "output_type": "stream",
          "name": "stdout",
          "text": [
            "1\n",
            "2\n",
            "3\n",
            "4\n",
            "5\n",
            "6\n",
            "7\n",
            "8\n",
            "9\n",
            "10\n"
          ]
        }
      ]
    },
    {
      "cell_type": "code",
      "source": [
        "#13. Write a Python program to find the sum of all even numbers between 1 and 50.\n",
        "even_sum = 0\n",
        "for num in range(2, 51, 2):\n",
        "  even_sum += num\n",
        "print(f\"The sum of even numbers between 1 and 50 is: {even_sum}\")\n"
      ],
      "metadata": {
        "colab": {
          "base_uri": "https://localhost:8080/"
        },
        "id": "4j3NqTQhIRS4",
        "outputId": "ebc67b81-e6a8-46c3-c00e-d464e91a1fe8"
      },
      "execution_count": 24,
      "outputs": [
        {
          "output_type": "stream",
          "name": "stdout",
          "text": [
            "The sum of even numbers between 1 and 50 is: 650\n"
          ]
        }
      ]
    },
    {
      "cell_type": "code",
      "source": [
        "#14.Write a program to reverse a string using a while loop.\n",
        "input_string = input(\"Enter a string: \")\n",
        "reversed_string = \"\"\n",
        "index = len(input_string) - 1\n",
        "while index >= 0:\n",
        "  reversed_string += input_string[index]\n",
        "  index -= 1"
      ],
      "metadata": {
        "colab": {
          "base_uri": "https://localhost:8080/"
        },
        "id": "Za1LM0TJUmhc",
        "outputId": "2c0df2fd-18ca-4ced-ef02-c62335bbcf39"
      },
      "execution_count": 29,
      "outputs": [
        {
          "name": "stdout",
          "output_type": "stream",
          "text": [
            "Enter a string: hhhjkyukshd\n"
          ]
        }
      ]
    },
    {
      "cell_type": "code",
      "source": [
        "#15. Write a Python program to calculate the factorial of a number provided by the user using a while loop\n",
        "num = int(input(\"Enter a number: \"))\n",
        "factorial = 1\n",
        "current = 1\n",
        "while current <= num:\n",
        "  factorial *= current\n",
        "  current += 1\n",
        "print(f\"The factorial of {num} is: {factorial}\")"
      ],
      "metadata": {
        "colab": {
          "base_uri": "https://localhost:8080/"
        },
        "id": "0kzV9M62IRNJ",
        "outputId": "6f2bc0dc-3b14-4da1-e538-6a3bb0fe2d39"
      },
      "execution_count": 27,
      "outputs": [
        {
          "output_type": "stream",
          "name": "stdout",
          "text": [
            "Enter a number: 5\n",
            "The factorial of 5 is: 120\n"
          ]
        }
      ]
    }
  ]
}